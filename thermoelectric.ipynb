{
 "cells": [
  {
   "cell_type": "markdown",
   "metadata": {},
   "source": [
    "## First Aproach\n",
    "\n",
    "- Simular $n$ termoeléctricas ($t_i$ es el valor de generación máxima de la termoeléctrica $i$)\n",
    "- El día 0 funcionan todas\n",
    "- Si todas funcionan Oferta $\\geq$ Demanda\n",
    "- Simular tiempo de rotura (Weibull)\n",
    "- Todas se pueden reparar a la vez\n",
    "- Tiempo de reparación Lognormal\n",
    "- Existen $m$ circuitos ($c_j$ es el valor de demanda del circuito $j$)\n",
    "- $\\delta_{ik}$ es un parámetro binario que expresa si la termoeléctrica $i$ está activa el día $k$\n",
    "- $\\alpha_{jk}$ es un parámetro binario que expresa si el circuito $j$ está activo el día $k$\n",
    "- Existe capacidad de almacenamiento ($a_k$ es la capacidad de almacenamiento del sistema en el día $k$)\n",
    "- $a_0 = 0$\n",
    "- $a_k = \\sum_{i=1}^{n} t_i\\delta_{ik} + a_{k-1} - \\sum_{j=1}^{m} c_j\\alpha_{jk}, a_k \\geq 0$\n",
    "- No simularemos mantenimientos planificados, solo reparación por rotura\n",
    "- No tendremos en cuenta fallas internas de los circuitos\n",
    "- No habrán circuitos que dependan de termoeléctricas específicas\n",
    "- La afectación a los circuitos se hará de manera proporcional (con una proporción que definiremos) y rotativa, cuando sea necesario\n",
    "- Al final de la simulación calcularemos una afectación (fórmula por determinar)"
   ]
  }
 ],
 "metadata": {
  "language_info": {
   "name": "python"
  }
 },
 "nbformat": 4,
 "nbformat_minor": 2
}
