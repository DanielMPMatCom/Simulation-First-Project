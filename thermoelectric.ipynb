{
 "cells": [
  {
   "cell_type": "markdown",
   "metadata": {},
   "source": [
    "## First Aproach\n",
    "\n",
    "- Simular $n$ termoeléctricas ($t_i$ es el valor de generación máxima de la termoeléctrica $i$)\n",
    "- El día 0 funcionan todas\n",
    "- Si todas funcionan Oferta $\\geq$ Demanda\n",
    "- Simular tiempo de rotura (Weibull)\n",
    "- Todas se pueden reparar a la vez\n",
    "- Tiempo de reparación Lognormal\n",
    "- Existen $m$ circuitos ($c_j$ es el valor de demanda del circuito $j$)\n",
    "- $\\delta_{ik}$ es un parámetro binario que expresa si la termoeléctrica $i$ está activa el día $k$\n",
    "- $\\alpha_{jk}$ es un parámetro binario que expresa si el circuito $j$ está activo el día $k$\n",
    "- Existe capacidad de almacenamiento ($a_k$ es la capacidad de almacenamiento del sistema en el día $k$)\n",
    "- $a_0 = 0$\n",
    "- $a_k = \\sum_{i=1}^{n} t_i\\delta_{ik} + a_{k-1} - \\sum_{j=1}^{m} c_j\\alpha_{jk}, a_k \\geq 0$\n",
    "- No simularemos mantenimientos planificados, solo reparación por rotura\n",
    "- No tendremos en cuenta fallas internas de los circuitos\n",
    "- No habrán circuitos que dependan de termoeléctricas específicas\n",
    "- La afectación a los circuitos se hará de manera proporcional (con una proporción que definiremos) y rotativa, cuando sea necesario\n",
    "- Al final de la simulación calcularemos una afectación (fórmula por determinar)"
   ]
  },
  {
   "cell_type": "code",
   "execution_count": null,
   "metadata": {},
   "outputs": [],
   "source": [
    "from abc import ABC, abstractmethod\n",
    "\n",
    "class Handler(ABC):\n",
    "\n",
    "    @abstractmethod\n",
    "    def decision():\n",
    "        pass"
   ]
  },
  {
   "cell_type": "code",
   "execution_count": 2,
   "metadata": {},
   "outputs": [],
   "source": [
    "import probabilistic_models as pm\n",
    "import numpy as np\n",
    "import random\n",
    "\n",
    "def simulate(N, M, K, seed=0):\n",
    "\n",
    "    if seed != 0:\n",
    "        random.seed(seed)\n",
    "\n",
    "    thermoelectrics = [random.randint(500, 1000) for _ in range(N)]\n",
    "    thermoelectrics_state = [[1 for _ in range(N)]]\n",
    "    circuits = [random.randint(200, 600) for _ in range(M)]\n",
    "    circuits_state = [[x for x in circuits]]\n",
    "    leave_service = [[] for _ in range(K)]\n",
    "    re_enter_service = [[] for _ in range(K)]\n",
    "    balance = 0\n",
    "    demand = sum(x for x in circuits)\n",
    "\n",
    "    for i in range(N):\n",
    "        pm.break_thermoelectric(leave_service, i, 0, N)\n",
    "\n",
    "    for t in range(1, K):\n",
    "        thermoelectrics_state.append([x for x in thermoelectrics_state[t - 1]])\n",
    "        \n",
    "        for thermoelectric in leave_service[t]:\n",
    "            thermoelectrics_state[t][thermoelectric] = 0\n",
    "            pm.repair_thermoelectric(re_enter_service, thermoelectric, t, N)\n",
    "\n",
    "        for thermoelectric in re_enter_service[t]:\n",
    "            thermoelectrics_state[t][thermoelectric] = 1\n",
    "            pm.break_thermoelectric(leave_service, thermoelectric, t, N)\n",
    "            \n",
    "        offer = sum(x * y for x, y in zip(thermoelectrics, thermoelectrics_state[t])) + balance\n",
    "\n",
    "        while(demand > offer):\n",
    "            pass\n",
    "\n",
    "        balance = offer - demand\n",
    "    "
   ]
  }
 ],
 "metadata": {
  "kernelspec": {
   "display_name": "Python 3",
   "language": "python",
   "name": "python3"
  },
  "language_info": {
   "codemirror_mode": {
    "name": "ipython",
    "version": 3
   },
   "file_extension": ".py",
   "mimetype": "text/x-python",
   "name": "python",
   "nbconvert_exporter": "python",
   "pygments_lexer": "ipython3",
   "version": "3.10.12"
  }
 },
 "nbformat": 4,
 "nbformat_minor": 2
}
