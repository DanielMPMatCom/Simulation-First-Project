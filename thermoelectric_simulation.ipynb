{
 "cells": [
  {
   "cell_type": "markdown",
   "metadata": {},
   "source": [
    "## First Aproach\n",
    "\n",
    "- Simular $n$ termoeléctricas ($t_i$ es el valor de generación máxima de la termoeléctrica $i$)\n",
    "- El día 0 funcionan todas\n",
    "- Si todas funcionan Oferta $\\geq$ Demanda\n",
    "- Simular tiempo de rotura (Weibull)\n",
    "- Todas se pueden reparar a la vez\n",
    "- Tiempo de reparación Lognormal\n",
    "- Existen $m$ circuitos ($c_j$ es el valor de demanda del circuito $j$)\n",
    "- $\\delta_{ik}$ es un parámetro binario que expresa si la termoeléctrica $i$ está activa el día $k$\n",
    "- $\\alpha_{jk}$ es un parámetro binario que expresa si el circuito $j$ está activo el día $k$\n",
    "- Existe capacidad de almacenamiento ($a_k$ es la capacidad de almacenamiento del sistema en el día $k$)\n",
    "- $a_0 = 0$\n",
    "- $a_k = \\sum_{i=1}^{n} t_i\\delta_{ik} + a_{k-1} - \\sum_{j=1}^{m} c_j\\alpha_{jk}, a_k \\geq 0$\n",
    "- No simularemos mantenimientos planificados, solo reparación por rotura\n",
    "- No tendremos en cuenta fallas internas de los circuitos\n",
    "- No habrán circuitos que dependan de termoeléctricas específicas\n",
    "- La afectación a los circuitos se hará de manera proporcional (con una proporción que definiremos) y rotativa, cuando sea necesario\n",
    "- Al final de la simulación calcularemos una afectación (fórmula por determinar)"
   ]
  },
  {
   "cell_type": "code",
   "execution_count": 90,
   "metadata": {},
   "outputs": [],
   "source": [
    "# from abc import ABC, abstractmethod\n",
    "# import math\n",
    "\n",
    "# class Handler(ABC):\n",
    "\n",
    "#     @abstractmethod\n",
    "#     def decision(self, offer, t, circuits, circuits_state):\n",
    "#         pass\n",
    "\n",
    "# class RRHandler(Handler):\n",
    "\n",
    "#     current_index = 0\n",
    "\n",
    "#     def __init__(self) -> None:\n",
    "#         super().__init__()\n",
    "\n",
    "#     def decision(self, offer, t, circuits, circuits_state):\n",
    "        \n",
    "#         demand = sum(circuits)\n",
    "\n",
    "#         while(demand > offer):\n",
    "#             circuits_state[t][self.current_index] -= math.floor(0.25 * circuits[self.current_index])\n",
    "#             demand -= math.floor(0.25 * circuits[self.current_index])\n",
    "\n",
    "#             self.current_index += 1\n",
    "#             self.current_index %= len(circuits)\n",
    "\n",
    "#             if circuits_state[t][self.current_index] < 0:\n",
    "#                 print(str(offer) + \" \" + str(demand))\n",
    "#                 raise Exception(\"Circuit fall below 0\")\n",
    "\n",
    "#         return demand\n",
    "        \n",
    "        "
   ]
  },
  {
   "cell_type": "code",
   "execution_count": 91,
   "metadata": {},
   "outputs": [],
   "source": [
    "# import probabilistic_models as pm\n",
    "# import numpy as np\n",
    "# import random\n",
    "\n",
    "# def simulate(N, M, K, handler:Handler ,seed=0):\n",
    "\n",
    "#     if seed != 0:\n",
    "#         random.seed(seed)\n",
    "\n",
    "#     thermoelectrics = [random.randint(500, 1000) for _ in range(N)]\n",
    "#     thermoelectrics_state = [[1 for _ in range(N)]]\n",
    "#     circuits = [random.randint(200, 600) for _ in range(M)]\n",
    "#     circuits_state = [[x for x in circuits]]\n",
    "#     leave_service = [[] for _ in range(K)]\n",
    "#     re_enter_service = [[] for _ in range(K)]\n",
    "#     balance = 0\n",
    "#     demand = sum(x for x in circuits)\n",
    "\n",
    "#     for i in range(N):\n",
    "#         pm.break_thermoelectric(leave_service, i, 0, N)\n",
    "\n",
    "#     for t in range(1, K):\n",
    "#         circuits_state.append([x for x in circuits])\n",
    "#         thermoelectrics_state.append([x for x in thermoelectrics_state[t - 1]])\n",
    "        \n",
    "#         for thermoelectric in leave_service[t]:\n",
    "#             thermoelectrics_state[t][thermoelectric] = 0\n",
    "#             pm.repair_thermoelectric(re_enter_service, thermoelectric, t, N)\n",
    "\n",
    "#         for thermoelectric in re_enter_service[t]:\n",
    "#             thermoelectrics_state[t][thermoelectric] = 1\n",
    "#             pm.break_thermoelectric(leave_service, thermoelectric, t, N)\n",
    "            \n",
    "#         offer = sum(x * y for x, y in zip(thermoelectrics, thermoelectrics_state[t])) + balance\n",
    "#         demand = handler.decision(offer, t, circuits, circuits_state)\n",
    "\n",
    "#         balance = offer - demand\n",
    "    \n",
    "#     return [thermoelectrics_state, circuits_state]"
   ]
  },
  {
   "cell_type": "code",
   "execution_count": 92,
   "metadata": {},
   "outputs": [],
   "source": [
    "# thermoelectrics, circuits = simulate(1, 15, 365, RRHandler())\n",
    "\n",
    "# for i in range(365):\n",
    "#     print(thermoelectrics[i])"
   ]
  },
  {
   "cell_type": "code",
   "execution_count": 93,
   "metadata": {},
   "outputs": [],
   "source": [
    "\n",
    "# import matplotlib.pyplot as plt\n",
    "\n",
    "# plt.plot([sum(x) for x in thermoelectrics])\n",
    "# plt.ylabel('Thermoelectrics')\n",
    "# plt.xlabel('Days')\n",
    "# plt.show()\n",
    "\n",
    "# # save for every day the number of thermoelectrics that are working in excel file\n",
    "# import pandas\n",
    "\n",
    "# # columns = [f\"Thermoelectric {i}\" for i in range(60)]\n",
    "# # rows = [f\"Day {i}\" for i in range(365)]\n",
    "\n",
    "# # df = pandas.DataFrame(thermoelectrics, columns=columns, index=rows)\n",
    "\n"
   ]
  },
  {
   "cell_type": "markdown",
   "metadata": {},
   "source": [
    "# The New Beginning"
   ]
  },
  {
   "cell_type": "code",
   "execution_count": 94,
   "metadata": {},
   "outputs": [],
   "source": [
    "from App.modules.weibull import Weibull\n",
    "from App.modules.lognormal import LogNormal\n",
    "from App.modules.event import Event\n",
    "from App.modules.thermoelectric import ThermoElectric\n",
    "import random as rnd\n",
    "import numpy as np"
   ]
  },
  {
   "cell_type": "code",
   "execution_count": 95,
   "metadata": {},
   "outputs": [],
   "source": [
    "days = 365\n",
    "thermoelectrics_amount = 300\n",
    "thermoelectrics = []\n",
    "for i in range(thermoelectrics_amount):\n",
    "    w = Weibull(rnd.uniform(0,3), rnd.randint(5, 300))\n",
    "    l = LogNormal(rnd.uniform(0,1), rnd.uniform(0,2))\n",
    "    o = rnd.randrange(0, 1000)\n",
    "    t = ThermoElectric(o , w, l)\n",
    "    t.planificate_events(days)\n",
    "    thermoelectrics.append(t)"
   ]
  },
  {
   "cell_type": "code",
   "execution_count": 96,
   "metadata": {},
   "outputs": [],
   "source": [
    "def get_next_general_event(thermoelectrics_list, days, current_day):\n",
    "    next_event = days\n",
    "    next_thermoelectric = None\n",
    "    for t in thermoelectrics_list:\n",
    "        tmp = t.get_next_future_event_day()\n",
    "        if tmp < next_event and tmp > current_day:\n",
    "            next_event = tmp\n",
    "            next_thermoelectric = t\n",
    "    return (next_event, next_thermoelectric)"
   ]
  },
  {
   "cell_type": "code",
   "execution_count": 97,
   "metadata": {},
   "outputs": [
    {
     "data": {
      "text/plain": [
       "(365, None)"
      ]
     },
     "execution_count": 97,
     "metadata": {},
     "output_type": "execute_result"
    }
   ],
   "source": [
    "get_next_general_event(thermoelectrics, days, 4)"
   ]
  },
  {
   "cell_type": "code",
   "execution_count": 98,
   "metadata": {},
   "outputs": [],
   "source": [
    "def simulate(sim_thermoelectrics, days):\n",
    "    current_day = 0\n",
    "    working_thermoelectrics = []\n",
    "    working_thermoelectrics.append(len(sim_thermoelectrics))\n",
    "    while current_day < days:\n",
    "        next_event, next_thermoelectric = get_next_general_event(sim_thermoelectrics, days, current_day)\n",
    "        for i in range(int(np.floor(current_day)), int(np.floor(next_event))-1):\n",
    "            working_thermoelectrics.append(working_thermoelectrics[-1])\n",
    "        current_day = next_event\n",
    "        if next_thermoelectric is not None:\n",
    "            next_thermoelectric.pop_next_future_event()\n",
    "            while True:\n",
    "                new_next_event, new_next_thermoelectric = get_next_general_event(sim_thermoelectrics, days, current_day)\n",
    "                if np.floor(current_day) == np.floor(new_next_event):\n",
    "                    new_next_thermoelectric.pop_next_future_event()\n",
    "                    current_day = new_next_event\n",
    "                else: \n",
    "                    break\n",
    "            count = 0\n",
    "            for t in sim_thermoelectrics:\n",
    "                if t.is_working():\n",
    "                    count += 1\n",
    "            working_thermoelectrics.append(count)\n",
    "\n",
    "        else:\n",
    "            working_thermoelectrics.append(working_thermoelectrics[-1])\n",
    "            break\n",
    "    return working_thermoelectrics"
   ]
  },
  {
   "cell_type": "code",
   "execution_count": 101,
   "metadata": {},
   "outputs": [],
   "source": [
    "import copy\n",
    "\n",
    "tmp = copy.deepcopy(thermoelectrics)\n",
    "working_thermoelectrics = simulate(tmp, days)"
   ]
  },
  {
   "cell_type": "code",
   "execution_count": 102,
   "metadata": {},
   "outputs": [
    {
     "data": {
      "image/png": "[encoded data removed]",
      "text/plain": [
       "<Figure size 640x480 with 1 Axes>"
      ]
     },
     "metadata": {},
     "output_type": "display_data"
    }
   ],
   "source": [
    "import matplotlib.pyplot as plt\n",
    "\n",
    "plt.plot(working_thermoelectrics)\n",
    "plt.title('Working thermoelectrics per day')\n",
    "plt.xlabel('Days')\n",
    "plt.ylabel('Working thermoelectrics')\n",
    "plt.show()"
   ]
  }
 ],
 "metadata": {
  "kernelspec": {
   "display_name": "Python 3",
   "language": "python",
   "name": "python3"
  },
  "language_info": {
   "codemirror_mode": {
    "name": "ipython",
    "version": 3
   },
   "file_extension": ".py",
   "mimetype": "text/x-python",
   "name": "python",
   "nbconvert_exporter": "python",
   "pygments_lexer": "ipython3",
   "version": "3.8.10"
  }
 },
 "nbformat": 4,
 "nbformat_minor": 2
}
