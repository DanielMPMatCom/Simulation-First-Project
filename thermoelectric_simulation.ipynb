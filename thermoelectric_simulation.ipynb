{
 "cells": [
  {
   "cell_type": "markdown",
   "metadata": {},
   "source": [
    "## First Aproach\n",
    "\n",
    "- Simular $n$ termoeléctricas ($t_i$ es el valor de generación máxima de la termoeléctrica $i$)\n",
    "- El día 0 funcionan todas\n",
    "- Si todas funcionan Oferta $\\geq$ Demanda\n",
    "- Simular tiempo de rotura (Weibull)\n",
    "- Todas se pueden reparar a la vez\n",
    "- Tiempo de reparación Lognormal\n",
    "- Existen $m$ circuitos ($c_j$ es el valor de demanda del circuito $j$)\n",
    "- $\\delta_{ik}$ es un parámetro binario que expresa si la termoeléctrica $i$ está activa el día $k$\n",
    "- $\\alpha_{jk}$ es un parámetro binario que expresa si el circuito $j$ está activo el día $k$\n",
    "- Existe capacidad de almacenamiento ($a_k$ es la capacidad de almacenamiento del sistema en el día $k$)\n",
    "- $a_0 = 0$\n",
    "- $a_k = \\sum_{i=1}^{n} t_i\\delta_{ik} + a_{k-1} - \\sum_{j=1}^{m} c_j\\alpha_{jk}, a_k \\geq 0$\n",
    "- No simularemos mantenimientos planificados, solo reparación por rotura\n",
    "- No tendremos en cuenta fallas internas de los circuitos\n",
    "- No habrán circuitos que dependan de termoeléctricas específicas\n",
    "- La afectación a los circuitos se hará de manera proporcional (con una proporción que definiremos) y rotativa, cuando sea necesario\n",
    "- Al final de la simulación calcularemos una afectación (fórmula por determinar)"
   ]
  },
  {
   "cell_type": "code",
   "execution_count": null,
   "metadata": {},
   "outputs": [],
   "source": [
    "from App.modules.weibull import Weibull\n",
    "from App.modules.lognormal import LogNormal\n",
    "from App.modules.event import Event\n",
    "from App.modules.thermoelectric import ThermoElectric\n",
    "from App.modules.agents import Agent\n",
    "from App.modules.circuit import Circuit\n",
    "from App.modules.roundrobin import RoundRobin\n",
    "import random as rnd\n",
    "import numpy as np\n",
    "import copy\n",
    "import matplotlib.pyplot as plt"
   ]
  },
  {
   "cell_type": "code",
   "execution_count": null,
   "metadata": {},
   "outputs": [],
   "source": [
    "def generate_thermoelectrics(days, thermoelectrics_amount):\n",
    "    thermoelectrics = []\n",
    "    for i in range(thermoelectrics_amount):\n",
    "        w = Weibull(rnd.uniform(40, 70), rnd.uniform(1,3))\n",
    "        l = LogNormal(rnd.uniform(2,2.5), rnd.uniform(0.2,0.4))\n",
    "        o = rnd.randrange(0, 1000)\n",
    "        t = ThermoElectric(o , w, l)\n",
    "        t.planificate_events(days)\n",
    "        thermoelectrics.append(t)\n",
    "\n",
    "    return thermoelectrics"
   ]
  },
  {
   "cell_type": "code",
   "execution_count": null,
   "metadata": {},
   "outputs": [],
   "source": [
    "days = 365\n",
    "thermoelectrics_amount = 20\n",
    "stored_energy = 0\n",
    "thermoelectrics = generate_thermoelectrics(days, thermoelectrics_amount)"
   ]
  },
  {
   "cell_type": "code",
   "execution_count": null,
   "metadata": {},
   "outputs": [],
   "source": [
    "for i in range(1):\n",
    "    print(i)\n",
    "    thermoelectrics[i].plot(0, 365)\n",
    "    thermoelectrics[i].get_distributions_info()"
   ]
  },
  {
   "cell_type": "code",
   "execution_count": null,
   "metadata": {},
   "outputs": [],
   "source": [
    "def get_next_general_event(thermoelectrics_list, days, current_day):\n",
    "    next_event = days\n",
    "    next_thermoelectric = None\n",
    "    for t in thermoelectrics_list:\n",
    "        tmp = t.get_next_future_event_day()\n",
    "        if tmp < next_event and tmp >= current_day:\n",
    "            next_event = tmp\n",
    "            next_thermoelectric = t\n",
    "    return (next_event, next_thermoelectric)"
   ]
  },
  {
   "cell_type": "code",
   "execution_count": null,
   "metadata": {},
   "outputs": [],
   "source": [
    "def simulate(thermoelectrics: \"list[ThermoElectric]\", days, agent:Agent=None, circuits:\"list[Circuit]\"=None, stored_energy=None):\n",
    "    working_thermoelectrics = []\n",
    "    working_thermoelectrics.append(np.ones(len(thermoelectrics)))\n",
    "    deficit_per_day = []\n",
    "    deficit_per_day.append(0)\n",
    "    stored_energy_per_day = []\n",
    "    stored_energy_per_day.append(0)\n",
    "    total_demand = 0\n",
    "    if circuits is not None:\n",
    "        total_demand = sum([c.demand for c in circuits])\n",
    "\n",
    "    event_date, event_thermoelectric = get_next_general_event(thermoelectrics, days, 0)\n",
    "\n",
    "    for current_day in range(0, days):\n",
    "        \n",
    "        if agent is not None:\n",
    "            agent.Manage_Thermoelectrics(current_day)\n",
    "\n",
    "        while(event_thermoelectric != None and np.floor(event_date) == current_day):\n",
    "            event_thermoelectric.pop_next_future_event()\n",
    "            event_date, event_thermoelectric = get_next_general_event(thermoelectrics, days, current_day)\n",
    "\n",
    "        thermoelectrics_state = [t.is_working() for t in thermoelectrics]\n",
    "        working_thermoelectrics.append(thermoelectrics_state)    \n",
    "\n",
    "        if circuits is not None:\n",
    "            if agent is not None:\n",
    "                agent.Manage_Circuits(stored_energy, current_day)\n",
    "            total_offer = sum([x.offer for x in thermoelectrics if x.is_working()]) + stored_energy_per_day[-1]\n",
    "            deficit_today = max(total_demand - total_offer, 0)\n",
    "            deficit_per_day.append(deficit_today)\n",
    "            stored_energy = max(total_offer - total_demand, 0)\n",
    "            stored_energy_per_day.append(stored_energy)\n",
    "\n",
    "    return working_thermoelectrics, deficit_per_day, stored_energy_per_day, circuits"
   ]
  },
  {
   "cell_type": "code",
   "execution_count": null,
   "metadata": {},
   "outputs": [],
   "source": [
    "tmp = copy.deepcopy(thermoelectrics)\n",
    "working_thermoelectrics, _, _, _ = simulate(tmp, days)\n",
    "working_thermoelectrics = [sum(x) for x in working_thermoelectrics]\n",
    "\n",
    "\n",
    "plt.plot(working_thermoelectrics)\n",
    "plt.title('Working thermoelectrics per day')\n",
    "plt.xlabel('Days')\n",
    "plt.ylabel('Working thermoelectrics')\n",
    "plt.show()"
   ]
  },
  {
   "cell_type": "markdown",
   "metadata": {},
   "source": [
    "# Agent with thermoelectric mantainance strategy"
   ]
  },
  {
   "cell_type": "code",
   "execution_count": null,
   "metadata": {},
   "outputs": [],
   "source": [
    "def average_worktime(planification, days, amount):\n",
    "    \n",
    "    total_sum = 0\n",
    "    total_intervals = 0\n",
    "\n",
    "    for i in range(amount):\n",
    "        sum = 0\n",
    "        for j in range(days):\n",
    "            if planification[j][i]:\n",
    "                sum += 1\n",
    "            elif sum != 0:\n",
    "                total_sum += sum\n",
    "                total_intervals += 1\n",
    "                sum = 0\n",
    "        if sum != 0:\n",
    "            total_sum += sum\n",
    "            total_intervals += 1\n",
    "            sum = 0 \n",
    "    return total_sum, total_intervals\n"
   ]
  },
  {
   "cell_type": "code",
   "execution_count": null,
   "metadata": {},
   "outputs": [],
   "source": [
    "def k_simulation(days, thermoelectrics_amount, k):\n",
    "    \n",
    "    sum = 0\n",
    "    intervals = 0\n",
    "    \n",
    "    for i in range(k):\n",
    "        thermoelectrics = generate_thermoelectrics(days, thermoelectrics_amount)\n",
    "        thermoelectrics_state, _, _, _ = simulate(thermoelectrics, days)\n",
    "        partial_sum, partial_intervals = average_worktime(thermoelectrics_state, days, thermoelectrics_amount)\n",
    "        sum += partial_sum\n",
    "        intervals += partial_intervals\n",
    "\n",
    "    return sum/intervals if intervals != 0 else 0"
   ]
  },
  {
   "cell_type": "code",
   "execution_count": null,
   "metadata": {},
   "outputs": [],
   "source": [
    "tmp = copy.deepcopy(thermoelectrics)\n",
    "\n",
    "average = k_simulation(days, 20, 10)\n",
    "\n",
    "def decorator_params_give_mantainance_heuristic( days, average, thermoelectrics: \"list[ThermoElectric]\") :\n",
    "    def give_mantainance_heuristic(current_day):\n",
    "        for thermoelectric in thermoelectrics:\n",
    "            if not thermoelectric.is_working():\n",
    "                continue\n",
    "            last_repair = thermoelectric.get_last_repair_day()\n",
    "            if current_day - last_repair >= average:\n",
    "                thermoelectric.repair_and_replanificate(current_day, days, LogNormal(rnd.uniform(1.5,2), rnd.uniform(0.2,0.4)))\n",
    "    return give_mantainance_heuristic\n",
    "\n",
    "def empty_func(current_day):\n",
    "    pass\n",
    "\n",
    "working_thermoelectrics, _, _, _ = simulate(tmp, days, Agent(decorator_params_give_mantainance_heuristic(days, average, tmp), empty_func))\n",
    "working_thermoelectrics = [sum(x) for x in working_thermoelectrics]\n",
    "\n",
    "plt.plot(working_thermoelectrics)\n",
    "plt.title('Working thermoelectrics per day')\n",
    "plt.xlabel('Days')\n",
    "plt.ylabel('Working thermoelectrics')\n",
    "plt.show()\n"
   ]
  },
  {
   "cell_type": "markdown",
   "metadata": {},
   "source": [
    "# Agent with circuits planification strategy"
   ]
  },
  {
   "cell_type": "code",
   "execution_count": null,
   "metadata": {},
   "outputs": [],
   "source": [
    "def generate_circuits(circuits_amount, days):\n",
    "    circuits = []\n",
    "    for i in range(circuits_amount):\n",
    "        demand = rnd.lognormvariate(rnd.uniform(0,7), rnd.uniform(0.2,0.4))\n",
    "        c = Circuit(i, demand, days)\n",
    "        circuits.append(c)\n",
    "\n",
    "    return circuits\n",
    "\n",
    "#Initialize circuits\n",
    "circuits_amount = 115\n",
    "circuits = generate_circuits(circuits_amount, days)\n"
   ]
  },
  {
   "cell_type": "code",
   "execution_count": null,
   "metadata": {},
   "outputs": [],
   "source": [
    "def get_deficit_and_stored_energy(circuits, thermoelectrics, stored_energy):\n",
    "    total_demand = sum([x.demand for x in circuits])\n",
    "    total_offer = sum([x.offer for x in thermoelectrics if x.is_working()]) + stored_energy\n",
    "    return (total_demand - total_offer, 0) if total_demand > total_offer else (0, total_offer - total_demand)"
   ]
  },
  {
   "cell_type": "code",
   "execution_count": null,
   "metadata": {},
   "outputs": [],
   "source": [
    "get_deficit_and_stored_energy(circuits, thermoelectrics, 0)    "
   ]
  },
  {
   "cell_type": "code",
   "execution_count": null,
   "metadata": {},
   "outputs": [],
   "source": [
    "rotation = RoundRobin()\n",
    "def decorator_params_disconnect_circuit_heuristic(circuits: \"list[Circuit]\", thermoelectrics: \"list[ThermoElectric]\", rotation: \"RoundRobin\"):\n",
    "    def disconnect_circuit_heuristic(stored_energy, current_day):\n",
    "        deficit, stored_energy = get_deficit_and_stored_energy(circuits, thermoelectrics, stored_energy)\n",
    "        while deficit > 0:\n",
    "            circuit = circuits[rotation.next() %len(circuits)]\n",
    "            if deficit > 1/4*circuit.demand: circuit.disconnect(1/4, current_day)\n",
    "            else: circuit.disconnect(deficit/circuit.demand, current_day)\n",
    "            deficit -= (circuit.demand/4 if deficit > 1/4*circuit.demand else deficit) \n",
    "    return disconnect_circuit_heuristic"
   ]
  },
  {
   "cell_type": "code",
   "execution_count": null,
   "metadata": {},
   "outputs": [],
   "source": [
    "tmp_thermoelectrics = copy.deepcopy(thermoelectrics)\n",
    "tmp_circuits = copy.deepcopy(circuits)\n",
    "\n",
    "\n",
    "working_thermoelectrics, deficit_per_day, stored_energy_per_day, circuits_result = simulate(tmp_thermoelectrics, days, Agent(decorator_params_give_mantainance_heuristic(days, average, tmp), decorator_params_disconnect_circuit_heuristic(tmp_circuits, tmp_thermoelectrics, rotation)), tmp_circuits, stored_energy)\n",
    "working_thermoelectrics = [sum(x) for x in working_thermoelectrics]\n",
    "\n",
    "plt.plot(working_thermoelectrics)\n",
    "plt.title('Working thermoelectrics per day')\n",
    "plt.xlabel('Days')\n",
    "plt.ylabel('Working thermoelectrics')\n",
    "plt.show()\n",
    "\n",
    "plt.plot(deficit_per_day)\n",
    "plt.title('Energy Deficit per day')\n",
    "plt.xlabel('Days')\n",
    "plt.ylabel('Deficit')\n",
    "plt.show()\n",
    "\n",
    "plt.plot(stored_energy_per_day)\n",
    "plt.title('Stored Energy per day')\n",
    "plt.xlabel('Days')\n",
    "plt.ylabel('Stored Energy')\n",
    "plt.show()"
   ]
  },
  {
   "cell_type": "code",
   "execution_count": null,
   "metadata": {},
   "outputs": [],
   "source": [
    "days_disconnected_by_circuit = [len([x for x in c.deficit_history if x > 0]) for c in circuits_result]\n",
    "\n",
    "\n",
    "# Crear una lista de índices para el eje x\n",
    "x = list(range(len(days_disconnected_by_circuit)))\n",
    "\n",
    "plt.bar(x, days_disconnected_by_circuit)\n",
    "plt.ylabel('Disconnected Days')\n",
    "plt.xlabel('Circuit ID')\n",
    "plt.title('Disconnected Days per Circuit')\n",
    "plt.show()\n",
    "\n"
   ]
  },
  {
   "cell_type": "code",
   "execution_count": null,
   "metadata": {},
   "outputs": [],
   "source": [
    "total_deficit_by_circuit = [x.total_deficit for x in circuits_result]\n",
    "demand_by_circuit = [x.demand for x in circuits_result]\n",
    "x = list(range(len(total_deficit_by_circuit)))\n",
    "\n",
    "plt.bar(x, total_deficit_by_circuit)\n",
    "plt.ylabel('Deficit')\n",
    "plt.xlabel('Circuit ID')\n",
    "plt.title('Total Deficit per Circuit')\n",
    "plt.show()\n",
    "\n",
    "plt.bar(x, demand_by_circuit)\n",
    "plt.ylabel('Demand')\n",
    "plt.xlabel('Circuit ID')\n",
    "plt.title('Demand per Circuit')\n",
    "plt.show()"
   ]
  },
  {
   "cell_type": "code",
   "execution_count": null,
   "metadata": {},
   "outputs": [],
   "source": [
    "for c in circuits_result[:10]:\n",
    "    plt.plot(c.deficit_history)\n",
    "    plt.title(f'Deficit per day in Circuit {c.id}')\n",
    "    plt.xlabel('Deficit')\n",
    "    plt.ylabel('Days')\n",
    "    plt.show()"
   ]
  }
 ],
 "metadata": {
  "kernelspec": {
   "display_name": "Python 3",
   "language": "python",
   "name": "python3"
  },
  "language_info": {
   "codemirror_mode": {
    "name": "ipython",
    "version": 3
   },
   "file_extension": ".py",
   "mimetype": "text/x-python",
   "name": "python",
   "nbconvert_exporter": "python",
   "pygments_lexer": "ipython3",
   "version": "3.8.10"
  }
 },
 "nbformat": 4,
 "nbformat_minor": 2
}
